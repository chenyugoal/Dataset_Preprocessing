{
 "cells": [
  {
   "cell_type": "code",
   "execution_count": 1,
   "id": "focused-killer",
   "metadata": {},
   "outputs": [],
   "source": [
    "import numpy as np\n",
    "import os\n",
    "\n",
    "import cv2\n",
    "import keras\n",
    "\n",
    "import matplotlib.pyplot as plt\n",
    "\n",
    "import seaborn as sns\n",
    "\n",
    "from keras import layers\n",
    "from keras.callbacks import EarlyStopping\n",
    "from keras.optimizers import Adam\n",
    "from sklearn.model_selection import train_test_split\n",
    "\n",
    "from proglearn.deciders import SimpleArgmaxAverage\n",
    "from proglearn.progressive_learner import ProgressiveLearner\n",
    "from proglearn.transformers import NeuralClassificationTransformer, TreeClassificationTransformer\n",
    "from proglearn.voters import TreeClassificationVoter, KNNClassificationVoter\n",
    "\n",
    "from tensorflow.keras.backend import clear_session # To avoid OOM error when using dnn"
   ]
  },
  {
   "cell_type": "code",
   "execution_count": 3,
   "id": "tender-commissioner",
   "metadata": {},
   "outputs": [],
   "source": [
    "path_aircraft_image = 'F:/Programming/Python/NDD/datasets_resized/fgvc-aircraft-2013b/data/images/'\n",
    "path_sun_image = ''\n"
   ]
  },
  {
   "cell_type": "code",
   "execution_count": 44,
   "id": "heard-portal",
   "metadata": {},
   "outputs": [],
   "source": [
    "x_train=[]\n",
    "y_train=[]\n",
    "label = 0 # start from 0\n",
    "f = open(\"F:/Programming/Python/NDD/datasets_ORIGINAL/fgvc-aircraft-2013b/data/images_variant_test.txt\", \"r\")\n",
    "\n",
    "lines = f.readlines()\n",
    "for l in lines:\n",
    "    img = cv2.imread(\"F:/Programming/Python/NDD/datasets_resized/fgvc-aircraft-2013b/data/images/\"+l.split(' ')[0]+'.jpg')\n",
    "    x_train.append(img)\n",
    "    y_train.append(label)\n",
    "    if \n",
    "    "
   ]
  },
  {
   "cell_type": "code",
   "execution_count": 47,
   "id": "prompt-muslim",
   "metadata": {},
   "outputs": [
    {
     "data": {
      "text/plain": [
       "(32, 32, 3)"
      ]
     },
     "execution_count": 47,
     "metadata": {},
     "output_type": "execute_result"
    }
   ],
   "source": [
    "img.shape"
   ]
  },
  {
   "cell_type": "code",
   "execution_count": 48,
   "id": "varied-course",
   "metadata": {},
   "outputs": [],
   "source": [
    "x_train.append(img)"
   ]
  },
  {
   "cell_type": "code",
   "execution_count": 49,
   "id": "separate-forth",
   "metadata": {},
   "outputs": [
    {
     "data": {
      "text/plain": [
       "[array([[[0, 0, 0],\n",
       "         [0, 0, 0],\n",
       "         [0, 0, 0],\n",
       "         ...,\n",
       "         [0, 0, 0],\n",
       "         [0, 0, 0],\n",
       "         [0, 0, 0]],\n",
       " \n",
       "        [[0, 0, 0],\n",
       "         [0, 0, 0],\n",
       "         [0, 0, 0],\n",
       "         ...,\n",
       "         [0, 0, 0],\n",
       "         [0, 0, 0],\n",
       "         [0, 0, 0]],\n",
       " \n",
       "        [[0, 0, 0],\n",
       "         [0, 0, 0],\n",
       "         [0, 0, 0],\n",
       "         ...,\n",
       "         [0, 0, 0],\n",
       "         [0, 0, 0],\n",
       "         [0, 0, 0]],\n",
       " \n",
       "        ...,\n",
       " \n",
       "        [[0, 0, 0],\n",
       "         [0, 0, 0],\n",
       "         [0, 0, 0],\n",
       "         ...,\n",
       "         [0, 0, 1],\n",
       "         [0, 0, 0],\n",
       "         [0, 0, 0]],\n",
       " \n",
       "        [[0, 1, 0],\n",
       "         [0, 1, 0],\n",
       "         [0, 0, 0],\n",
       "         ...,\n",
       "         [0, 0, 0],\n",
       "         [0, 0, 0],\n",
       "         [0, 0, 0]],\n",
       " \n",
       "        [[1, 2, 0],\n",
       "         [0, 1, 0],\n",
       "         [0, 0, 0],\n",
       "         ...,\n",
       "         [0, 0, 0],\n",
       "         [0, 0, 0],\n",
       "         [0, 0, 0]]], dtype=uint8)]"
      ]
     },
     "execution_count": 49,
     "metadata": {},
     "output_type": "execute_result"
    }
   ],
   "source": [
    "x_train"
   ]
  }
 ],
 "metadata": {
  "kernelspec": {
   "display_name": "progressivelearning",
   "language": "python",
   "name": "progressivelearning"
  },
  "language_info": {
   "codemirror_mode": {
    "name": "ipython",
    "version": 3
   },
   "file_extension": ".py",
   "mimetype": "text/x-python",
   "name": "python",
   "nbconvert_exporter": "python",
   "pygments_lexer": "ipython3",
   "version": "3.8.0"
  }
 },
 "nbformat": 4,
 "nbformat_minor": 5
}
