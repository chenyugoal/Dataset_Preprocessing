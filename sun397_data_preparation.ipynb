{
 "cells": [
  {
   "cell_type": "markdown",
   "id": "colonial-tunnel",
   "metadata": {},
   "source": [
    "# Sun 397 Preprocessing\n",
    "\n",
    "There are 397 categories, 108754 images in total.\n",
    "\n",
    "For each category, there are at least 100 images."
   ]
  },
  {
   "cell_type": "code",
   "execution_count": 1,
   "id": "systematic-cannon",
   "metadata": {},
   "outputs": [],
   "source": [
    "import cv2\n",
    "import os\n",
    "import matplotlib.pyplot as plt\n",
    "import numpy as np\n",
    "import tensorflow as tf\n",
    "\n",
    "from PIL import Image\n",
    "from PIL import ImageOps"
   ]
  },
  {
   "cell_type": "code",
   "execution_count": 2,
   "id": "impressive-bloom",
   "metadata": {},
   "outputs": [],
   "source": [
    "path_dataset = 'F:/Programming/Python/SUN397/SUN397'\n",
    "class_txt = 'F:/Programming/Python/SUN397/SUN397/ClassName.txt'\n",
    "\n",
    "path_save_pad = 'F:/Programming/Python/SUN397/padded'\n",
    "path_save_resize = 'F:/Programming/Python/SUN397/resized'"
   ]
  },
  {
   "cell_type": "code",
   "execution_count": 3,
   "id": "spanish-intervention",
   "metadata": {},
   "outputs": [
    {
     "name": "stderr",
     "output_type": "stream",
     "text": [
      "D:\\Python Exploration\\VirEnv\\progressivelearning\\lib\\site-packages\\PIL\\TiffImagePlugin.py:770: UserWarning: Possibly corrupt EXIF data.  Expecting to read 8 bytes but only got 2. Skipping tag 41487\n",
      "  warnings.warn(\n",
      "D:\\Python Exploration\\VirEnv\\progressivelearning\\lib\\site-packages\\PIL\\TiffImagePlugin.py:770: UserWarning: Possibly corrupt EXIF data.  Expecting to read 8 bytes but only got 0. Skipping tag 41988\n",
      "  warnings.warn(\n",
      "D:\\Python Exploration\\VirEnv\\progressivelearning\\lib\\site-packages\\PIL\\TiffImagePlugin.py:792: UserWarning: Corrupt EXIF data.  Expecting to read 4 bytes but only got 0. \n",
      "  warnings.warn(str(msg))\n",
      "D:\\Python Exploration\\VirEnv\\progressivelearning\\lib\\site-packages\\PIL\\TiffImagePlugin.py:770: UserWarning: Possibly corrupt EXIF data.  Expecting to read 1385478 bytes but only got 27197. Skipping tag 513\n",
      "  warnings.warn(\n",
      "D:\\Python Exploration\\VirEnv\\progressivelearning\\lib\\site-packages\\PIL\\TiffImagePlugin.py:770: UserWarning: Possibly corrupt EXIF data.  Expecting to read 7276331008 bytes but only got 0. Skipping tag 7\n",
      "  warnings.warn(\n",
      "D:\\Python Exploration\\VirEnv\\progressivelearning\\lib\\site-packages\\PIL\\TiffImagePlugin.py:770: UserWarning: Possibly corrupt EXIF data.  Expecting to read 653262848 bytes but only got 0. Skipping tag 4\n",
      "  warnings.warn(\n",
      "D:\\Python Exploration\\VirEnv\\progressivelearning\\lib\\site-packages\\PIL\\TiffImagePlugin.py:770: UserWarning: Possibly corrupt EXIF data.  Expecting to read 1873215488 bytes but only got 0. Skipping tag 4\n",
      "  warnings.warn(\n",
      "D:\\Python Exploration\\VirEnv\\progressivelearning\\lib\\site-packages\\PIL\\TiffImagePlugin.py:770: UserWarning: Possibly corrupt EXIF data.  Expecting to read 1073020928 bytes but only got 27197. Skipping tag 4\n",
      "  warnings.warn(\n",
      "D:\\Python Exploration\\VirEnv\\progressivelearning\\lib\\site-packages\\PIL\\TiffImagePlugin.py:770: UserWarning: Possibly corrupt EXIF data.  Expecting to read 5464072 bytes but only got 0. Skipping tag 18947\n",
      "  warnings.warn(\n",
      "D:\\Python Exploration\\VirEnv\\progressivelearning\\lib\\site-packages\\PIL\\TiffImagePlugin.py:770: UserWarning: Possibly corrupt EXIF data.  Expecting to read 578814084 bytes but only got 0. Skipping tag 136\n",
      "  warnings.warn(\n",
      "D:\\Python Exploration\\VirEnv\\progressivelearning\\lib\\site-packages\\PIL\\TiffImagePlugin.py:770: UserWarning: Possibly corrupt EXIF data.  Expecting to read 27525248 bytes but only got 0. Skipping tag 49365\n",
      "  warnings.warn(\n",
      "D:\\Python Exploration\\VirEnv\\progressivelearning\\lib\\site-packages\\PIL\\TiffImagePlugin.py:770: UserWarning: Possibly corrupt EXIF data.  Expecting to read 681574480 bytes but only got 27102. Skipping tag 28844\n",
      "  warnings.warn(\n",
      "D:\\Python Exploration\\VirEnv\\progressivelearning\\lib\\site-packages\\PIL\\TiffImagePlugin.py:770: UserWarning: Possibly corrupt EXIF data.  Expecting to read 1442320 bytes but only got 0. Skipping tag 344\n",
      "  warnings.warn(\n",
      "D:\\Python Exploration\\VirEnv\\progressivelearning\\lib\\site-packages\\PIL\\TiffImagePlugin.py:770: UserWarning: Possibly corrupt EXIF data.  Expecting to read 289669320 bytes but only got 0. Skipping tag 16389\n",
      "  warnings.warn(\n",
      "D:\\Python Exploration\\VirEnv\\progressivelearning\\lib\\site-packages\\PIL\\TiffImagePlugin.py:770: UserWarning: Possibly corrupt EXIF data.  Expecting to read 41943296 bytes but only got 0. Skipping tag 1026\n",
      "  warnings.warn(\n",
      "D:\\Python Exploration\\VirEnv\\progressivelearning\\lib\\site-packages\\PIL\\TiffImagePlugin.py:770: UserWarning: Possibly corrupt EXIF data.  Expecting to read 2147504132 bytes but only got 0. Skipping tag 2304\n",
      "  warnings.warn(\n",
      "D:\\Python Exploration\\VirEnv\\progressivelearning\\lib\\site-packages\\PIL\\TiffImagePlugin.py:770: UserWarning: Possibly corrupt EXIF data.  Expecting to read 134318080 bytes but only got 0. Skipping tag 25088\n",
      "  warnings.warn(\n",
      "D:\\Python Exploration\\VirEnv\\progressivelearning\\lib\\site-packages\\PIL\\TiffImagePlugin.py:770: UserWarning: Possibly corrupt EXIF data.  Expecting to read 156499988 bytes but only got 0. Skipping tag 217\n",
      "  warnings.warn(\n",
      "D:\\Python Exploration\\VirEnv\\progressivelearning\\lib\\site-packages\\PIL\\TiffImagePlugin.py:770: UserWarning: Possibly corrupt EXIF data.  Expecting to read 11602290 bytes but only got 0. Skipping tag 64\n",
      "  warnings.warn(\n",
      "D:\\Python Exploration\\VirEnv\\progressivelearning\\lib\\site-packages\\PIL\\TiffImagePlugin.py:770: UserWarning: Possibly corrupt EXIF data.  Expecting to read 540016656 bytes but only got 0. Skipping tag 149\n",
      "  warnings.warn(\n",
      "D:\\Python Exploration\\VirEnv\\progressivelearning\\lib\\site-packages\\PIL\\TiffImagePlugin.py:770: UserWarning: Possibly corrupt EXIF data.  Expecting to read 28256 bytes but only got 0. Skipping tag 50389\n",
      "  warnings.warn(\n",
      "D:\\Python Exploration\\VirEnv\\progressivelearning\\lib\\site-packages\\PIL\\TiffImagePlugin.py:770: UserWarning: Possibly corrupt EXIF data.  Expecting to read 50176 bytes but only got 7725. Skipping tag 63401\n",
      "  warnings.warn(\n",
      "D:\\Python Exploration\\VirEnv\\progressivelearning\\lib\\site-packages\\PIL\\TiffImagePlugin.py:770: UserWarning: Possibly corrupt EXIF data.  Expecting to read 671088900 bytes but only got 0. Skipping tag 20\n",
      "  warnings.warn(\n",
      "D:\\Python Exploration\\VirEnv\\progressivelearning\\lib\\site-packages\\PIL\\TiffImagePlugin.py:770: UserWarning: Possibly corrupt EXIF data.  Expecting to read 65537 bytes but only got 0. Skipping tag 33296\n",
      "  warnings.warn(\n",
      "D:\\Python Exploration\\VirEnv\\progressivelearning\\lib\\site-packages\\PIL\\TiffImagePlugin.py:770: UserWarning: Possibly corrupt EXIF data.  Expecting to read 262146 bytes but only got 0. Skipping tag 2\n",
      "  warnings.warn(\n",
      "D:\\Python Exploration\\VirEnv\\progressivelearning\\lib\\site-packages\\PIL\\TiffImagePlugin.py:770: UserWarning: Possibly corrupt EXIF data.  Expecting to read 262151 bytes but only got 0. Skipping tag 56\n",
      "  warnings.warn(\n",
      "D:\\Python Exploration\\VirEnv\\progressivelearning\\lib\\site-packages\\PIL\\TiffImagePlugin.py:792: UserWarning: Corrupt EXIF data.  Expecting to read 12 bytes but only got 4. \n",
      "  warnings.warn(str(msg))\n",
      "D:\\Python Exploration\\VirEnv\\progressivelearning\\lib\\site-packages\\PIL\\TiffImagePlugin.py:770: UserWarning: Possibly corrupt EXIF data.  Expecting to read 20 bytes but only got 0. Skipping tag 36867\n",
      "  warnings.warn(\n",
      "D:\\Python Exploration\\VirEnv\\progressivelearning\\lib\\site-packages\\PIL\\TiffImagePlugin.py:770: UserWarning: Possibly corrupt EXIF data.  Expecting to read 150 bytes but only got 128. Skipping tag 37510\n",
      "  warnings.warn(\n",
      "D:\\Python Exploration\\VirEnv\\progressivelearning\\lib\\site-packages\\PIL\\TiffImagePlugin.py:770: UserWarning: Possibly corrupt EXIF data.  Expecting to read 1385478 bytes but only got 23143. Skipping tag 513\n",
      "  warnings.warn(\n",
      "D:\\Python Exploration\\VirEnv\\progressivelearning\\lib\\site-packages\\PIL\\TiffImagePlugin.py:770: UserWarning: Possibly corrupt EXIF data.  Expecting to read 1879769088 bytes but only got 0. Skipping tag 4\n",
      "  warnings.warn(\n",
      "D:\\Python Exploration\\VirEnv\\progressivelearning\\lib\\site-packages\\PIL\\TiffImagePlugin.py:770: UserWarning: Possibly corrupt EXIF data.  Expecting to read 3014066176 bytes but only got 0. Skipping tag 4\n",
      "  warnings.warn(\n",
      "D:\\Python Exploration\\VirEnv\\progressivelearning\\lib\\site-packages\\PIL\\TiffImagePlugin.py:770: UserWarning: Possibly corrupt EXIF data.  Expecting to read 3568893952 bytes but only got 23144. Skipping tag 4\n",
      "  warnings.warn(\n",
      "D:\\Python Exploration\\VirEnv\\progressivelearning\\lib\\site-packages\\PIL\\TiffImagePlugin.py:770: UserWarning: Possibly corrupt EXIF data.  Expecting to read 598221316 bytes but only got 0. Skipping tag 0\n",
      "  warnings.warn(\n",
      "D:\\Python Exploration\\VirEnv\\progressivelearning\\lib\\site-packages\\PIL\\TiffImagePlugin.py:770: UserWarning: Possibly corrupt EXIF data.  Expecting to read 4194304 bytes but only got 0. Skipping tag 5\n",
      "  warnings.warn(\n",
      "D:\\Python Exploration\\VirEnv\\progressivelearning\\lib\\site-packages\\PIL\\TiffImagePlugin.py:770: UserWarning: Possibly corrupt EXIF data.  Expecting to read 17249141424 bytes but only got 0. Skipping tag 66\n",
      "  warnings.warn(\n",
      "D:\\Python Exploration\\VirEnv\\progressivelearning\\lib\\site-packages\\PIL\\TiffImagePlugin.py:770: UserWarning: Possibly corrupt EXIF data.  Expecting to read 33554580 bytes but only got 0. Skipping tag 11\n",
      "  warnings.warn(\n",
      "D:\\Python Exploration\\VirEnv\\progressivelearning\\lib\\site-packages\\PIL\\TiffImagePlugin.py:770: UserWarning: Possibly corrupt EXIF data.  Expecting to read 10878986 bytes but only got 0. Skipping tag 712\n",
      "  warnings.warn(\n",
      "D:\\Python Exploration\\VirEnv\\progressivelearning\\lib\\site-packages\\PIL\\TiffImagePlugin.py:770: UserWarning: Possibly corrupt EXIF data.  Expecting to read 4383056960 bytes but only got 22044. Skipping tag 18\n",
      "  warnings.warn(\n",
      "D:\\Python Exploration\\VirEnv\\progressivelearning\\lib\\site-packages\\PIL\\TiffImagePlugin.py:770: UserWarning: Possibly corrupt EXIF data.  Expecting to read 541786190 bytes but only got 0. Skipping tag 16576\n",
      "  warnings.warn(\n",
      "D:\\Python Exploration\\VirEnv\\progressivelearning\\lib\\site-packages\\PIL\\TiffImagePlugin.py:770: UserWarning: Possibly corrupt EXIF data.  Expecting to read 2256669952 bytes but only got 0. Skipping tag 17\n",
      "  warnings.warn(\n",
      "D:\\Python Exploration\\VirEnv\\progressivelearning\\lib\\site-packages\\PIL\\TiffImagePlugin.py:770: UserWarning: Possibly corrupt EXIF data.  Expecting to read 67518482 bytes but only got 0. Skipping tag 7\n",
      "  warnings.warn(\n",
      "D:\\Python Exploration\\VirEnv\\progressivelearning\\lib\\site-packages\\PIL\\TiffImagePlugin.py:770: UserWarning: Possibly corrupt EXIF data.  Expecting to read 4454482224 bytes but only got 0. Skipping tag 237\n",
      "  warnings.warn(\n",
      "D:\\Python Exploration\\VirEnv\\progressivelearning\\lib\\site-packages\\PIL\\TiffImagePlugin.py:770: UserWarning: Possibly corrupt EXIF data.  Expecting to read 2359296 bytes but only got 0. Skipping tag 4096\n",
      "  warnings.warn(\n",
      "D:\\Python Exploration\\VirEnv\\progressivelearning\\lib\\site-packages\\PIL\\TiffImagePlugin.py:770: UserWarning: Possibly corrupt EXIF data.  Expecting to read 65537 bytes but only got 0. Skipping tag 65535\n",
      "  warnings.warn(\n",
      "D:\\Python Exploration\\VirEnv\\progressivelearning\\lib\\site-packages\\PIL\\TiffImagePlugin.py:770: UserWarning: Possibly corrupt EXIF data.  Expecting to read 8834460608 bytes but only got 0. Skipping tag 35831\n",
      "  warnings.warn(\n",
      "D:\\Python Exploration\\VirEnv\\progressivelearning\\lib\\site-packages\\PIL\\TiffImagePlugin.py:792: UserWarning: Corrupt EXIF data.  Expecting to read 12 bytes but only got 6. \n",
      "  warnings.warn(str(msg))\n"
     ]
    }
   ],
   "source": [
    "with open(class_txt) as f:\n",
    "    lines = f.read().splitlines() \n",
    "\n",
    "for i in lines:\n",
    "    file = os.listdir(path_dataset+i)\n",
    "    for j in file:\n",
    "        img = Image.open(path_dataset+ i + '/'+ j)\n",
    "        \n",
    "        # pad\n",
    "        w = img.size[0]\n",
    "        h = img.size[1]\n",
    "        M = max(h,w)\n",
    "        \n",
    "        padded = ImageOps.pad(img, (M,M))\n",
    "        \n",
    "        if not os.path.exists(os.path.dirname(path_save_pad+ i + '/' + j)):\n",
    "            try:\n",
    "                os.makedirs(os.path.dirname(path_save_pad+ i + '/' + j))\n",
    "            except OSError as exc: # Guard against race condition\n",
    "                if exc.errno != errno.EEXIST:\n",
    "                    raise\n",
    "                    \n",
    "        padded.convert('RGB').save(path_save_pad+ i + '/' + j)\n",
    "        \n",
    "        w_check = padded.size[0]\n",
    "        h_check = padded.size[1]\n",
    "        \n",
    "        if w_check == h_check:\n",
    "            pass\n",
    "        else:\n",
    "            print('Not square: '+ i + '/' + j)\n",
    "            break\n",
    "        \n",
    "        # resize\n",
    "        img0 = tf.io.read_file(path_save_pad+ i + '/' + j)\n",
    "        img1 = tf.io.decode_jpeg(img0, channels=3)\n",
    "\n",
    "        img2 = tf.image.resize(img1, [32,32], method='bilinear', preserve_aspect_ratio=True)\n",
    "\n",
    "        img3 = tf.image.convert_image_dtype(img2/255.0, dtype=tf.uint8)\n",
    "\n",
    "        out = tf.io.encode_jpeg(img3, format='', quality=100)\n",
    "\n",
    "        tf.io.write_file(path_save_resize + i + '/' + j, out)\n"
   ]
  },
  {
   "cell_type": "code",
   "execution_count": 5,
   "id": "historical-bennett",
   "metadata": {},
   "outputs": [],
   "source": [
    "with open(class_txt) as f:\n",
    "    lines = f.read().splitlines() \n",
    "\n",
    "x_all = []\n",
    "y_all = []\n",
    "for label,i in enumerate(lines):\n",
    "    file = os.listdir(path_save_resize+i)\n",
    "    for j in file:\n",
    "        #print(path_save_resize+ i + '/'+ j)\n",
    "        #print(label)\n",
    "        img = cv2.imread(path_save_resize+ i + '/'+ j)\n",
    "        x_all.append(img)\n",
    "        y_all.append(label)\n",
    "x_all = np.array(x_all) # (108754, 32, 32, 3)\n",
    "y_all = np.array(y_all) # (108754,)"
   ]
  },
  {
   "cell_type": "code",
   "execution_count": 8,
   "id": "official-guatemala",
   "metadata": {
    "scrolled": true
   },
   "outputs": [],
   "source": [
    "from numpy import save\n",
    "\n",
    "np.save('data/sun397_x_all.npy',x_all)\n",
    "np.save('data/sun397_y_all.npy',y_all)"
   ]
  },
  {
   "cell_type": "code",
   "execution_count": 4,
   "id": "alert-growth",
   "metadata": {},
   "outputs": [
    {
     "data": {
      "text/plain": [
       "<matplotlib.image.AxesImage at 0x18051911820>"
      ]
     },
     "execution_count": 4,
     "metadata": {},
     "output_type": "execute_result"
    },
    {
     "data": {
      "image/png": "[encoded data removed]",
      "text/plain": [
       "<Figure size 432x288 with 1 Axes>"
      ]
     },
     "metadata": {
      "needs_background": "light"
     },
     "output_type": "display_data"
    }
   ],
   "source": [
    "# show one resized image\n",
    "file = os.listdir(path_save_resize+lines[0])\n",
    "sample = Image.open(path_save_resize + lines[0] + '/' + file[0])\n",
    "plt.imshow(sample)"
   ]
  },
  {
   "cell_type": "code",
   "execution_count": null,
   "id": "careful-heading",
   "metadata": {},
   "outputs": [],
   "source": []
  }
 ],
 "metadata": {
  "kernelspec": {
   "display_name": "progressivelearning",
   "language": "python",
   "name": "progressivelearning"
  },
  "language_info": {
   "codemirror_mode": {
    "name": "ipython",
    "version": 3
   },
   "file_extension": ".py",
   "mimetype": "text/x-python",
   "name": "python",
   "nbconvert_exporter": "python",
   "pygments_lexer": "ipython3",
   "version": "3.8.0"
  }
 },
 "nbformat": 4,
 "nbformat_minor": 5
}
