{
 "cells": [
  {
   "cell_type": "code",
   "execution_count": 1,
   "id": "funny-harvest",
   "metadata": {},
   "outputs": [],
   "source": [
    "import numpy as np\n",
    "import IPython.display as ipd\n",
    "from joblib import Parallel, delayed"
   ]
  },
  {
   "cell_type": "markdown",
   "id": "intensive-friendship",
   "metadata": {},
   "source": [
    "## Datasets\n",
    "\n",
    "| Datasets        | #images           | #labels  | #images per label (minimum)|\n",
    "| --------------- |:-----------------:| :-------:|---------------------------:|\n",
    "| fgvc-aircraft-2013b | 10000 | 100 | 100 |\n",
    "| birdSnap    | 49829 | 500 | 69 (100 for most species)  |\n",
    "\n",
    "To avoid unbalanced number of labels per task, we use only a small proportion (100*100 samples) of BirdSnaps."
   ]
  },
  {
   "cell_type": "code",
   "execution_count": 2,
   "id": "bizarre-defendant",
   "metadata": {},
   "outputs": [],
   "source": [
    "n_task_aircraft = 5 # divide aircraft into 5 tasks\n",
    "n_task_birdsnap = 5 # for birdsnap, select 100 species that contains 100 samples and divide these 100 into 5 tasks \n",
    "n_task = 10\n",
    "\n",
    "n_label_per_task = 20\n",
    "n_sample_label = 90 # limited by birdsnap\n",
    "test_size=0.4 # 54 train, 36 test"
   ]
  },
  {
   "cell_type": "code",
   "execution_count": 3,
   "id": "engaged-darwin",
   "metadata": {},
   "outputs": [],
   "source": [
    "path_aircraft_x_all = 'F:/Programming/Python/NDD/Dataset_Preprocessing/data/aircraft_x_all.npy'\n",
    "path_aircraft_y_all = 'F:/Programming/Python/NDD/Dataset_Preprocessing/data/aircraft_y_all.npy'\n",
    "\n",
    "path_birdsnap_x_all = 'F:/Programming/Python/NDD/Dataset_Preprocessing/data/birdsnap_x_all.npy'\n",
    "path_birdsnap_y_all = 'F:/Programming/Python/NDD/Dataset_Preprocessing/data/birdsnap_y_all.npy'"
   ]
  },
  {
   "cell_type": "code",
   "execution_count": 4,
   "id": "administrative-favorite",
   "metadata": {},
   "outputs": [],
   "source": [
    "from numpy import load\n",
    "\n",
    "aircraft_x_all = np.load(path_aircraft_x_all)\n",
    "aircraft_y_all = np.load(path_aircraft_y_all)\n",
    "\n",
    "birdsnap_x_all = np.load(path_birdsnap_x_all)\n",
    "birdsnap_y_all = np.load(path_birdsnap_y_all)"
   ]
  },
  {
   "cell_type": "code",
   "execution_count": 5,
   "id": "premier-firewall",
   "metadata": {},
   "outputs": [
    {
     "data": {
      "text/plain": [
       "(90, 32, 32, 3)"
      ]
     },
     "execution_count": 5,
     "metadata": {},
     "output_type": "execute_result"
    }
   ],
   "source": [
    "aircraft_x_all[aircraft_y_all == 1][:90].shape"
   ]
  },
  {
   "cell_type": "code",
   "execution_count": 6,
   "id": "offshore-vatican",
   "metadata": {},
   "outputs": [],
   "source": [
    "from sklearn.model_selection import train_test_split\n",
    "\n",
    "train_x_task = [[], [], [], [], [], [], [], [], [], []]\n",
    "test_x_task = [[], [], [], [], [], [], [], [], [], []]\n",
    "train_y_task = [[], [], [], [], [], [], [], [], [], []]\n",
    "test_y_task = [[], [], [], [], [], [], [], [], [], []]\n",
    "\n",
    "# load aircraft data to tasks\n",
    "for i in range(n_task_aircraft):\n",
    "    X = np.empty([0,32,32,3])\n",
    "    Y = np.empty([0,])\n",
    "    for j in range(n_label_per_task):\n",
    "        new_x = aircraft_x_all[aircraft_y_all == n_label_per_task*i + j + 1][:90]\n",
    "        new_y = aircraft_y_all[aircraft_y_all == n_label_per_task*i + j + 1][:90]\n",
    "        X = np.concatenate((X, new_x), axis=0)\n",
    "        Y = np.concatenate((Y, new_y), axis=0)\n",
    "    train_x_task[i], test_x_task[i], train_y_task[i], test_y_task[i] = train_test_split(X, Y,test_size=test_size)\n",
    "    "
   ]
  },
  {
   "cell_type": "code",
   "execution_count": 7,
   "id": "located-farmer",
   "metadata": {},
   "outputs": [
    {
     "data": {
      "text/plain": [
       "(1080, 32, 32, 3)"
      ]
     },
     "execution_count": 7,
     "metadata": {},
     "output_type": "execute_result"
    }
   ],
   "source": [
    "train_x_task[0].shape"
   ]
  },
  {
   "cell_type": "code",
   "execution_count": 8,
   "id": "opposed-still",
   "metadata": {},
   "outputs": [],
   "source": [
    "# load birdsnap data to tasks\n",
    "for i in range(n_task_birdsnap):\n",
    "    X = np.empty([0,32,32,3])\n",
    "    Y = np.empty([0,])\n",
    "    for j in range(n_label_per_task):\n",
    "        new_x = birdsnap_x_all[birdsnap_y_all == n_label_per_task*i + j + 1][:90]\n",
    "        new_y = birdsnap_y_all[birdsnap_y_all == n_label_per_task*i + j + 1][:90] + 100 #should I add 100 to distinguish between birdsnap and aircraft?\n",
    "        X = np.concatenate((X, new_x), axis=0)\n",
    "        Y = np.concatenate((Y, new_y), axis=0)\n",
    "    train_x_task[n_task_aircraft+i], test_x_task[n_task_aircraft+i], train_y_task[n_task_aircraft+i], test_y_task[n_task_aircraft+i] = train_test_split(X, Y,test_size=test_size)"
   ]
  },
  {
   "cell_type": "code",
   "execution_count": 9,
   "id": "rational-ethernet",
   "metadata": {},
   "outputs": [
    {
     "data": {
      "text/plain": [
       "(1080,)"
      ]
     },
     "execution_count": 9,
     "metadata": {},
     "output_type": "execute_result"
    }
   ],
   "source": [
    "train_y_task[9].shape"
   ]
  },
  {
   "cell_type": "code",
   "execution_count": 10,
   "id": "south-government",
   "metadata": {},
   "outputs": [
    {
     "data": {
      "text/plain": [
       "<matplotlib.image.AxesImage at 0x20fa2562130>"
      ]
     },
     "execution_count": 10,
     "metadata": {},
     "output_type": "execute_result"
    },
    {
     "data": {
      "image/png": "[encoded data removed]",
      "text/plain": [
       "<Figure size 432x288 with 1 Axes>"
      ]
     },
     "metadata": {
      "needs_background": "light"
     },
     "output_type": "display_data"
    }
   ],
   "source": [
    "import matplotlib.pyplot as plt\n",
    "\n",
    "# task 1-5 is aircraft, 6-10 is birdsnap\n",
    "img = train_x_task[5][0]\n",
    "plt.imshow(img.astype(np.uint8))"
   ]
  },
  {
   "cell_type": "code",
   "execution_count": null,
   "id": "angry-margin",
   "metadata": {},
   "outputs": [],
   "source": [
    "from flying_functions import single_experiment\n",
    "\n",
    "# L2N Model\n",
    "\n",
    "model = 'uf'\n",
    "ntrees = 10     # number of trees, used when model is uf\n",
    "num_repetition = 5\n",
    "\n",
    "accuracy_list = Parallel(n_jobs=5)(delayed(single_experiment)(train_x_task,test_x_task,train_y_task,test_y_task,ntrees,model) for _ in range(num_repetition))\n",
    "\n",
    "accuracy_all_avg = np.average(accuracy_list, axis = 0)"
   ]
  },
  {
   "cell_type": "code",
   "execution_count": null,
   "id": "proprietary-rally",
   "metadata": {},
   "outputs": [],
   "source": [
    "accuracy_all_avg"
   ]
  },
  {
   "cell_type": "code",
   "execution_count": null,
   "id": "adopted-cuisine",
   "metadata": {},
   "outputs": [],
   "source": [
    "from flying_functions import calculate_results\n",
    "\n",
    "err, bte, fte, te = calculate_results(accuracy_all_avg)"
   ]
  },
  {
   "cell_type": "code",
   "execution_count": null,
   "id": "casual-probe",
   "metadata": {},
   "outputs": [],
   "source": [
    "# L2F vs L2N, without shuffle\n",
    "import seaborn as sns\n",
    "import matplotlib.pyplot as plt\n",
    "from matplotlib.pyplot import MultipleLocator\n",
    "\n",
    "num_tasks = 10\n",
    "sns.set(style='ticks')\n",
    "\n",
    "fontsize = 30\n",
    "ticksize = 24\n",
    "markersize = 16\n",
    "linewidth = 3\n",
    "\n",
    "fig, ax = plt.subplots(2, 2, figsize=(20, 14.5))\n",
    "\n",
    "# FTE\n",
    "ax[0][0].plot(np.arange(1, num_tasks + 1), fte, c='red', marker='.', markersize=markersize, linewidth=linewidth, label = 'Odif')\n",
    "ax[0][0].hlines(1, 1, num_tasks, colors='grey', linestyles='dashed', linewidth=0.5*linewidth)\n",
    "ax[0][0].tick_params(labelsize=ticksize)\n",
    "ax[0][0].set_xlabel('Number of tasks seen', fontsize=fontsize)\n",
    "ax[0][0].set_ylabel('Forward TE',fontsize=fontsize)\n",
    "\n",
    "# BTE\n",
    "for i in range(num_tasks):\n",
    "    et = np.asarray(bte[i])\n",
    "    ns = np.arange(i + 1, num_tasks + 1)\n",
    "    ax[0][1].plot(ns, et, c='red', linewidth=linewidth)\n",
    "\n",
    "ax[0][1].set_xlabel('Number of tasks seen', fontsize=fontsize)\n",
    "ax[0][1].set_ylabel('Backward TE', fontsize=fontsize)\n",
    "ax[0][1].tick_params(labelsize=ticksize)\n",
    "ax[0][1].hlines(1, 1, num_tasks, colors='grey', linestyles='dashed', linewidth=0.5*linewidth)\n",
    "\n",
    "# TE\n",
    "for i in range(num_tasks):\n",
    "    et = np.asarray(te[i])\n",
    "    ns = np.arange(i + 1, num_tasks + 1)\n",
    "    ax[1][0].plot(ns, et, c='red', linewidth=linewidth)\n",
    "\n",
    "ax[1][0].set_xlabel('Number of tasks seen', fontsize=fontsize)\n",
    "ax[1][0].set_ylabel('Transfer Efficiency', fontsize=fontsize)\n",
    "ax[1][0].tick_params(labelsize=ticksize)\n",
    "ax[1][0].hlines(1, 1, num_tasks, colors='grey', linestyles='dashed', linewidth=0.5*linewidth)\n",
    "ax[1][0].yaxis.set_major_locator(MultipleLocator(1))\n",
    "\n",
    "# Accuracy\n",
    "for i in range(num_tasks):\n",
    "    et = 1 - np.asarray(err[i])\n",
    "    ns = np.arange(i + 1, num_tasks + 1)\n",
    "    if i == 0: ax[1][1].plot(ns, et, c='red', linewidth=linewidth, label = 'Odif')\n",
    "    else: ax[1][1].plot(ns, et, c='red', linewidth=linewidth)\n",
    "\n",
    "ax[1][1].set_xlabel('Number of tasks seen', fontsize=fontsize)\n",
    "ax[1][1].set_ylabel('Accuracy', fontsize=fontsize)\n",
    "ax[1][1].tick_params(labelsize=ticksize)\n"
   ]
  }
 ],
 "metadata": {
  "kernelspec": {
   "display_name": "progressivelearning",
   "language": "python",
   "name": "progressivelearning"
  },
  "language_info": {
   "codemirror_mode": {
    "name": "ipython",
    "version": 3
   },
   "file_extension": ".py",
   "mimetype": "text/x-python",
   "name": "python",
   "nbconvert_exporter": "python",
   "pygments_lexer": "ipython3",
   "version": "3.8.0"
  }
 },
 "nbformat": 4,
 "nbformat_minor": 5
}
