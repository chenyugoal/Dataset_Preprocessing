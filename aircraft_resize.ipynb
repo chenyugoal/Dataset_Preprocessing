{
 "cells": [
  {
   "cell_type": "code",
   "execution_count": 2,
   "id": "presidential-nickel",
   "metadata": {},
   "outputs": [],
   "source": [
    "import cv2\n",
    "import os\n",
    "import matplotlib.pyplot as plt\n",
    "import numpy as np\n",
    "import tensorflow as tf\n",
    "\n",
    "from PIL import Image\n",
    "from PIL import ImageOps"
   ]
  },
  {
   "cell_type": "markdown",
   "id": "unauthorized-photographer",
   "metadata": {},
   "source": [
    "# pad\n",
    "\n",
    "pad the shorter side from both sides"
   ]
  },
  {
   "cell_type": "code",
   "execution_count": 3,
   "id": "designing-inspector",
   "metadata": {},
   "outputs": [],
   "source": [
    "path_image = 'F:/Programming/Python/NDD/datasets_cropped/fgvc-aircraft-2013b/data/images/'\n",
    "path_save  = 'F:/Programming/Python/NDD/datasets_padded/fgvc-aircraft-2013b/data/images/'"
   ]
  },
  {
   "cell_type": "code",
   "execution_count": 4,
   "id": "urban-microwave",
   "metadata": {},
   "outputs": [],
   "source": [
    "file = os.listdir(path_image)\n",
    "\n",
    "for i in file:\n",
    "    \n",
    "    img = Image.open(path_image + i)\n",
    "    \n",
    "    w = img.size[0]\n",
    "    h = img.size[1]\n",
    "    M = max(h,w)\n",
    "\n",
    "    out = ImageOps.pad(img, (M,M))\n",
    "    out.convert('RGB').save(path_save + i, 'jpeg')\n",
    "    \n",
    "    w_check = out.size[0]\n",
    "    h_check = out.size[1]\n",
    "\n",
    "    if w_check == h_check: \n",
    "        continue\n",
    "    else:\n",
    "        print(\"not square:\" + i)\n",
    "        break"
   ]
  },
  {
   "cell_type": "markdown",
   "id": "sudden-drain",
   "metadata": {},
   "source": [
    "# resize\n",
    "resize to 32x32 using tensorflow.image.resize which defaults to bilinear interpolation."
   ]
  },
  {
   "cell_type": "code",
   "execution_count": 4,
   "id": "incoming-institute",
   "metadata": {},
   "outputs": [],
   "source": [
    "path_image = 'F:/Programming/Python/NDD/datasets_padded/fgvc-aircraft-2013b/data/images/'\n",
    "path_save  = 'F:/Programming/Python/NDD/datasets_resized/fgvc-aircraft-2013b/data/images/'"
   ]
  },
  {
   "cell_type": "code",
   "execution_count": 7,
   "id": "tender-governor",
   "metadata": {},
   "outputs": [],
   "source": [
    "file = os.listdir(path_image)\n",
    "\n",
    "for i in file:\n",
    "    img0 = tf.io.read_file(path_image + i)\n",
    "    img1 = tf.io.decode_jpeg(img0, channels=3)\n",
    "\n",
    "    img2 = tf.image.resize(img1, [32,32], method='bilinear', preserve_aspect_ratio=True)\n",
    "\n",
    "    img3 = tf.image.convert_image_dtype(img2/255.0, dtype=tf.uint8)\n",
    "\n",
    "    out = tf.io.encode_jpeg(img3, format='', quality=100)\n",
    "\n",
    "    tf.io.write_file(path_save + i, out)"
   ]
  },
  {
   "cell_type": "code",
   "execution_count": 6,
   "id": "flying-contest",
   "metadata": {},
   "outputs": [
    {
     "data": {
      "text/plain": [
       "<matplotlib.image.AxesImage at 0x20c9557a730>"
      ]
     },
     "execution_count": 6,
     "metadata": {},
     "output_type": "execute_result"
    },
    {
     "data": {
      "image/png": "[encoded data removed]",
      "text/plain": [
       "<Figure size 432x288 with 1 Axes>"
      ]
     },
     "metadata": {
      "needs_background": "light"
     },
     "output_type": "display_data"
    }
   ],
   "source": [
    "# show one resized image\n",
    "\n",
    "file = os.listdir(path_save)\n",
    "sample = Image.open(path_save + file[100])\n",
    "plt.imshow(sample)"
   ]
  },
  {
   "cell_type": "markdown",
   "id": "danish-guatemala",
   "metadata": {},
   "source": [
    "# Save as numpy array"
   ]
  },
  {
   "cell_type": "code",
   "execution_count": null,
   "id": "chief-dinner",
   "metadata": {},
   "outputs": [],
   "source": [
    "path_aircraft_image = 'F:/Programming/Python/NDD/datasets_resized/fgvc-aircraft-2013b/data/images/'"
   ]
  },
  {
   "cell_type": "code",
   "execution_count": null,
   "id": "productive-obligation",
   "metadata": {},
   "outputs": [],
   "source": [
    "x_train=[]\n",
    "y_train=[]\n",
    "\n",
    "f = open(\"F:/Programming/Python/NDD/datasets_resized/fgvc-aircraft-2013b/data/train.txt\", \"r\")\n",
    "\n",
    "lines = f.readlines()\n",
    "for l in lines:\n",
    "    img = cv2.imread(\"F:/Programming/Python/NDD/datasets_resized/fgvc-aircraft-2013b/data/images/\"+l.split(' ')[0])\n",
    "    x_train.append(img)\n",
    "    y_train.append(int(l.split(' ')[1]))\n",
    "\n",
    "x_train = np.array(x_train)\n",
    "y_train = np.array(y_train)\n",
    "\n",
    "x_test=[]\n",
    "y_test=[]\n",
    "\n",
    "f = open(\"F:/Programming/Python/NDD/datasets_resized/fgvc-aircraft-2013b/data/test.txt\", \"r\")\n",
    "\n",
    "lines = f.readlines()\n",
    "for l in lines:\n",
    "    img = cv2.imread(\"F:/Programming/Python/NDD/datasets_resized/fgvc-aircraft-2013b/data/images/\"+l.split(' ')[0])\n",
    "    x_test.append(img)\n",
    "    y_test.append(int(l.split(' ')[1]))\n",
    "\n",
    "x_test = np.array(x_test)\n",
    "y_test = np.array(y_test)"
   ]
  },
  {
   "cell_type": "code",
   "execution_count": null,
   "id": "complimentary-pleasure",
   "metadata": {},
   "outputs": [],
   "source": [
    "print('x_train shape: ',x_train.shape)\n",
    "print('y_train shape: ',y_train.shape)\n",
    "print('y_train: ',y_train)\n",
    "print('y_test: ',y_test)\n",
    "print('x_test shape: ',x_test.shape)\n",
    "print('y_test shape: ',y_test.shape)"
   ]
  },
  {
   "cell_type": "code",
   "execution_count": null,
   "id": "inside-dance",
   "metadata": {},
   "outputs": [],
   "source": [
    "from numpy import save, load\n",
    "\n",
    "np.save('data/x_train.npy',x_train)\n",
    "np.save('data/y_train.npy',y_train)\n",
    "\n",
    "np.save('data/x_test.npy',x_test)\n",
    "np.save('data/y_test.npy',y_test)"
   ]
  },
  {
   "cell_type": "markdown",
   "id": "introductory-tribe",
   "metadata": {},
   "source": [
    "### Concatenate training and testing set for following usage"
   ]
  },
  {
   "cell_type": "code",
   "execution_count": null,
   "id": "numerical-parking",
   "metadata": {},
   "outputs": [],
   "source": [
    "from numpy import save, load\n",
    "x_train = np.load('data/x_train.npy')\n",
    "y_train = np.load('data/y_train.npy')\n",
    "x_test = np.load('data/x_test.npy')\n",
    "y_test = np.load('data/y_test.npy')\n",
    "\n",
    "import numpy as np\n",
    "x_all = np.concatenate((x_train,x_test), axis=0)\n",
    "y_all = np.concatenate((y_train,y_test), axis=0)\n",
    "\n",
    "np.save('data/aircraft_x_all.npy',x_all)\n",
    "np.save('data/aircraft_y_all.npy',y_all)"
   ]
  },
  {
   "cell_type": "markdown",
   "id": "civil-maria",
   "metadata": {},
   "source": [
    "### sklearn Random Forest"
   ]
  },
  {
   "cell_type": "code",
   "execution_count": null,
   "id": "conditional-suicide",
   "metadata": {},
   "outputs": [],
   "source": [
    "# Flattening\n",
    "x_train_f = x_train.reshape((x_train.shape[0],-1))\n",
    "x_test_f = x_test.reshape((x_test.shape[0],-1))"
   ]
  },
  {
   "cell_type": "code",
   "execution_count": null,
   "id": "portable-prior",
   "metadata": {},
   "outputs": [],
   "source": [
    "from sklearn.ensemble import RandomForestClassifier\n",
    "\n",
    "clf = RandomForestClassifier(n_estimators=100, max_depth=30)\n",
    "clf.fit(x_train_f, y_train.ravel())"
   ]
  },
  {
   "cell_type": "code",
   "execution_count": null,
   "id": "polyphonic-logic",
   "metadata": {},
   "outputs": [],
   "source": [
    "prediction = clf.predict(x_test_f)\n",
    "acc = np.sum(prediction == y_test)/prediction.shape[0]\n",
    "print('The Accuracy: ',acc)\n",
    "print('It is better than random choosing, 1/100.')"
   ]
  }
 ],
 "metadata": {
  "kernelspec": {
   "display_name": "progressivelearning",
   "language": "python",
   "name": "progressivelearning"
  },
  "language_info": {
   "codemirror_mode": {
    "name": "ipython",
    "version": 3
   },
   "file_extension": ".py",
   "mimetype": "text/x-python",
   "name": "python",
   "nbconvert_exporter": "python",
   "pygments_lexer": "ipython3",
   "version": "3.8.0"
  }
 },
 "nbformat": 4,
 "nbformat_minor": 5
}
